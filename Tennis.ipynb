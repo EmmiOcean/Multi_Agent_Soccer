{
 "cells": [
  {
   "cell_type": "markdown",
   "metadata": {},
   "source": [
    "# Collaboration and Competition\n",
    "\n",
    "---\n",
    "\n",
    "In this notebook, you will learn how to use the Unity ML-Agents environment for the third project of the [Deep Reinforcement Learning Nanodegree](https://www.udacity.com/course/deep-reinforcement-learning-nanodegree--nd893) program.\n",
    "\n",
    "### 1. Start the Environment\n",
    "\n",
    "We begin by importing the necessary packages.  If the code cell below returns an error, please revisit the project instructions to double-check that you have installed [Unity ML-Agents](https://github.com/Unity-Technologies/ml-agents/blob/master/docs/Installation.md) and [NumPy](http://www.numpy.org/)."
   ]
  },
  {
   "cell_type": "code",
   "execution_count": 1,
   "metadata": {},
   "outputs": [],
   "source": [
    "from unityagents import UnityEnvironment\n",
    "import numpy as np\n",
    "from collections import deque\n",
    "from maddpg_agent import MADDPG\n",
    "import time"
   ]
  },
  {
   "cell_type": "code",
   "execution_count": 2,
   "metadata": {},
   "outputs": [
    {
     "name": "stderr",
     "output_type": "stream",
     "text": [
      "INFO:unityagents:\n",
      "'Academy' started successfully!\n",
      "Unity Academy name: Academy\n",
      "        Number of Brains: 1\n",
      "        Number of External Brains : 1\n",
      "        Lesson number : 0\n",
      "        Reset Parameters :\n",
      "\t\t\n",
      "Unity brain name: TennisBrain\n",
      "        Number of Visual Observations (per agent): 0\n",
      "        Vector Observation space type: continuous\n",
      "        Vector Observation space size (per agent): 8\n",
      "        Number of stacked Vector Observation: 3\n",
      "        Vector Action space type: continuous\n",
      "        Vector Action space size (per agent): 2\n",
      "        Vector Action descriptions: , \n"
     ]
    }
   ],
   "source": [
    "env = UnityEnvironment(file_name=\"env/Tennis.x86_64\")"
   ]
  },
  {
   "cell_type": "markdown",
   "metadata": {},
   "source": [
    "Environments contain **_brains_** which are responsible for deciding the actions of their associated agents. Here we check for the first brain available, and set it as the default brain we will be controlling from Python."
   ]
  },
  {
   "cell_type": "code",
   "execution_count": 3,
   "metadata": {},
   "outputs": [],
   "source": [
    "# get the default brain\n",
    "brain_name = env.brain_names[0]\n",
    "brain = env.brains[brain_name]"
   ]
  },
  {
   "cell_type": "markdown",
   "metadata": {},
   "source": [
    "### 2. Examine the State and Action Spaces\n",
    "\n",
    "In this environment, two agents control rackets to bounce a ball over a net. If an agent hits the ball over the net, it receives a reward of +0.1.  If an agent lets a ball hit the ground or hits the ball out of bounds, it receives a reward of -0.01.  Thus, the goal of each agent is to keep the ball in play.\n",
    "\n",
    "The observation space consists of 8 variables corresponding to the position and velocity of the ball and racket. Two continuous actions are available, corresponding to movement toward (or away from) the net, and jumping. \n",
    "\n",
    "Run the code cell below to print some information about the environment."
   ]
  },
  {
   "cell_type": "code",
   "execution_count": 4,
   "metadata": {},
   "outputs": [
    {
     "name": "stdout",
     "output_type": "stream",
     "text": [
      "Number of agents: 2\n",
      "Size of each action: 2\n",
      "There are 2 agents. Each observes a state with length: 24\n",
      "The state for the first agent looks like: [ 0.          0.          0.          0.          0.          0.\n",
      "  0.          0.          0.          0.          0.          0.\n",
      "  0.          0.          0.          0.         -6.65278625 -1.5\n",
      " -0.          0.          6.83172083  6.         -0.          0.        ]\n"
     ]
    }
   ],
   "source": [
    "# reset the environment\n",
    "env_info = env.reset(train_mode=True)[brain_name]\n",
    "\n",
    "# number of agents \n",
    "num_agents = len(env_info.agents)\n",
    "print('Number of agents:', num_agents)\n",
    "\n",
    "# size of each action\n",
    "action_size = brain.vector_action_space_size\n",
    "print('Size of each action:', action_size)\n",
    "\n",
    "# examine the state space \n",
    "states = env_info.vector_observations\n",
    "state_size = states.shape[1]\n",
    "print('There are {} agents. Each observes a state with length: {}'.format(states.shape[0], state_size))\n",
    "print('The state for the first agent looks like:', states[0])"
   ]
  },
  {
   "cell_type": "markdown",
   "metadata": {},
   "source": [
    "### 3. Create Agents"
   ]
  },
  {
   "cell_type": "code",
   "execution_count": 5,
   "metadata": {},
   "outputs": [],
   "source": [
    "m_agents = MADDPG(num_agents=num_agents, state_size=state_size, action_size=action_size, random_seed=10)"
   ]
  },
  {
   "cell_type": "markdown",
   "metadata": {},
   "source": [
    "### 4. Start Training Process"
   ]
  },
  {
   "cell_type": "code",
   "execution_count": 6,
   "metadata": {},
   "outputs": [],
   "source": [
    "def run_training(n_episodes=1000, print_every = 100):\n",
    "    \"\"\"MADDPG Algorithm.\n",
    "    Params\n",
    "    ======\n",
    "        n_episodes (int): maximum number of training episodes\n",
    "        print_every (int): frequency of printing information throughout iteration \"\"\"\n",
    "    current_score = []\n",
    "    running_mean = []\n",
    "    scores_deque = deque(maxlen=print_every)\n",
    "    solved = False\n",
    "    startTime = time.time()\n",
    "    \n",
    "    for i_episode in range(1, n_episodes+1):\n",
    "        env_info = env.reset(train_mode=True)[brain_name]\n",
    "        m_agents.reset()                                   # reset the environment\n",
    "        states = env_info.vector_observations              # get the current state (for each agent)\n",
    "        scores = np.zeros(num_agents)                      # initialize the score (for each agent)\n",
    "        tick = time.time()\n",
    "        while True:\n",
    "            actions = m_agents.act(states)                  # all actions between -1 and 1\n",
    "            env_info = env.step(actions)[brain_name]           # send all actions to tne environment\n",
    "            next_states = env_info.vector_observations         # get next state (for each agent)\n",
    "            rewards = env_info.rewards                         # get reward (for each agent)\n",
    "            dones = env_info.local_done                        # see if episode finished\n",
    "            m_agents.step(states, actions, rewards, next_states, dones) # take step with agent (including learning)\n",
    "            scores += env_info.rewards                         # update the score (for each agent)\n",
    "            states = next_states                               # roll over states to next time step\n",
    "            if np.any(dones):                                  # exit loop if episode finished\n",
    "                break\n",
    "        \n",
    "        #introduces again a Experience Learning step - to fasten up training\n",
    "        #agent.learn_from_experience()\n",
    "        \n",
    "        scores_deque.append(np.max(scores))       # save most recent score\n",
    "        current_score.append(np.max(scores))             # save most recent score\n",
    "        running_mean.append(np.mean(scores_deque))\n",
    "        print('\\rEpisode {}\\tAverage Score: {:.2f}\\tCurrent Score: {:.2f}'.format(i_episode, np.mean(scores_deque),np.max(scores)), end=\"\")\n",
    "        \n",
    "        if i_episode % print_every == 0:\n",
    "            print('\\rEpisode {}\\tAverage Score: {:.2f}\\tCurrent Score: {:.2f}'.format(i_episode, np.mean(scores_deque), np.max(scores)))\n",
    "            m_agents.saveCheckPoints()\n",
    "        \n",
    "        if np.mean(scores_deque)>=30.0:\n",
    "            print('\\nEnvironment solved in {:d} episodes!\\tAverage Score: {:.2f}'.format(i_episode, np.mean(scores_deque)))\n",
    "            m_agents.saveCheckPoints()\n",
    "            break\n",
    "        \n",
    "        if np.mean(scores_deque)>= 0.5 and not solved:\n",
    "            solved = True\n",
    "            print(\"\\x1b[31m\\n************ ENVIRONMENT_SOLVED ************\\x1b[0m\")\n",
    "            print('\\nsolved in {:d} episodes!\\It took {:.2f} Minutes to solve the task'.format(i_episode, (time.time()-startTime)/60))\n",
    "            \n",
    "    return current_score, running_mean"
   ]
  },
  {
   "cell_type": "code",
   "execution_count": 7,
   "metadata": {},
   "outputs": [
    {
     "name": "stdout",
     "output_type": "stream",
     "text": [
      "Episode 50\tAverage Score: 0.00\tCurrent Score: 0.00\n",
      "Episode 100\tAverage Score: 0.00\tCurrent Score: 0.00\n",
      "Episode 150\tAverage Score: 0.01\tCurrent Score: 0.00\n",
      "Episode 200\tAverage Score: 0.01\tCurrent Score: 0.00\n",
      "Episode 250\tAverage Score: 0.00\tCurrent Score: 0.00\n",
      "Episode 300\tAverage Score: 0.02\tCurrent Score: 0.00\n",
      "Episode 350\tAverage Score: 0.06\tCurrent Score: 0.10\n",
      "Episode 400\tAverage Score: 0.10\tCurrent Score: 0.10\n",
      "Episode 450\tAverage Score: 0.08\tCurrent Score: 0.10\n",
      "Episode 500\tAverage Score: 0.10\tCurrent Score: 0.09\n",
      "Episode 550\tAverage Score: 0.10\tCurrent Score: 0.10\n",
      "Episode 600\tAverage Score: 0.14\tCurrent Score: 0.10\n",
      "Episode 650\tAverage Score: 0.15\tCurrent Score: 0.30\n",
      "Episode 700\tAverage Score: 0.15\tCurrent Score: 0.30\n",
      "Episode 750\tAverage Score: 0.26\tCurrent Score: 0.50\n",
      "Episode 800\tAverage Score: 0.26\tCurrent Score: 0.90\n",
      "Episode 850\tAverage Score: 0.34\tCurrent Score: 1.30\n",
      "Episode 868\tAverage Score: 0.52\tCurrent Score: 1.39\u001b[31m\n",
      "************ ENVIRONMENT_SOLVED ************\u001b[0m\n",
      "\n",
      "solved in 868 episodes!\\It took 17.51 Minutes to solve the task\n",
      "Episode 900\tAverage Score: 1.16\tCurrent Score: 2.60\n",
      "Episode 950\tAverage Score: 0.77\tCurrent Score: 0.10\n",
      "Episode 1000\tAverage Score: 1.34\tCurrent Score: 2.60\n"
     ]
    }
   ],
   "source": [
    "scores, running_mean = run_training(n_episodes = 1000)"
   ]
  },
  {
   "cell_type": "code",
   "execution_count": 10,
   "metadata": {},
   "outputs": [
    {
     "data": {
      "image/png": "[encoded data removed]",
      "text/plain": [
       "<Figure size 432x288 with 1 Axes>"
      ]
     },
     "metadata": {
      "needs_background": "light"
     },
     "output_type": "display_data"
    }
   ],
   "source": [
    "import matplotlib.pyplot as plt\n",
    "%matplotlib inline\n",
    "\n",
    "fig = plt.figure()\n",
    "plt.ylabel('Score')\n",
    "plt.xlabel('Episode #')\n",
    "plt.plot(np.arange(1, len(scores)+1), scores)\n",
    "plt.plot(np.arange(len(scores)), running_mean, label='Moving average', color='red')\n",
    "plt.plot(np.arange(len(scores)), np.zeros(len(scores))+0.5, label='Criterion = 0.5')\n",
    "plt.legend(bbox_to_anchor=(0.01, 0.99), loc=2, borderaxespad=0.)\n",
    "fig.savefig('result.png')\n",
    "plt.show()"
   ]
  },
  {
   "cell_type": "markdown",
   "metadata": {},
   "source": [
    "### 5. Plot training result"
   ]
  },
  {
   "cell_type": "code",
   "execution_count": 10,
   "metadata": {},
   "outputs": [
    {
     "ename": "NameError",
     "evalue": "name 'plt' is not defined",
     "output_type": "error",
     "traceback": [
      "\u001b[0;31m---------------------------------------------------------------------------\u001b[0m",
      "\u001b[0;31mNameError\u001b[0m                                 Traceback (most recent call last)",
      "\u001b[0;32m<ipython-input-10-70a6608413cc>\u001b[0m in \u001b[0;36m<module>\u001b[0;34m\u001b[0m\n\u001b[0;32m----> 1\u001b[0;31m \u001b[0mfig\u001b[0m \u001b[0;34m=\u001b[0m \u001b[0mplt\u001b[0m\u001b[0;34m.\u001b[0m\u001b[0mfigure\u001b[0m\u001b[0;34m(\u001b[0m\u001b[0;34m)\u001b[0m\u001b[0;34m\u001b[0m\u001b[0m\n\u001b[0m\u001b[1;32m      2\u001b[0m \u001b[0;34m\u001b[0m\u001b[0m\n\u001b[1;32m      3\u001b[0m \u001b[0mplt\u001b[0m\u001b[0;34m.\u001b[0m\u001b[0mylabel\u001b[0m\u001b[0;34m(\u001b[0m\u001b[0;34m'Score'\u001b[0m\u001b[0;34m)\u001b[0m\u001b[0;34m\u001b[0m\u001b[0m\n\u001b[1;32m      4\u001b[0m \u001b[0mplt\u001b[0m\u001b[0;34m.\u001b[0m\u001b[0mxlabel\u001b[0m\u001b[0;34m(\u001b[0m\u001b[0;34m'Episode #'\u001b[0m\u001b[0;34m)\u001b[0m\u001b[0;34m\u001b[0m\u001b[0m\n\u001b[1;32m      5\u001b[0m \u001b[0mplt\u001b[0m\u001b[0;34m.\u001b[0m\u001b[0mplot\u001b[0m\u001b[0;34m(\u001b[0m\u001b[0mnp\u001b[0m\u001b[0;34m.\u001b[0m\u001b[0marange\u001b[0m\u001b[0;34m(\u001b[0m\u001b[0;36m1\u001b[0m\u001b[0;34m,\u001b[0m \u001b[0mlen\u001b[0m\u001b[0;34m(\u001b[0m\u001b[0mscores\u001b[0m\u001b[0;34m)\u001b[0m\u001b[0;34m+\u001b[0m\u001b[0;36m1\u001b[0m\u001b[0;34m)\u001b[0m\u001b[0;34m,\u001b[0m \u001b[0mscores\u001b[0m\u001b[0;34m)\u001b[0m\u001b[0;34m\u001b[0m\u001b[0m\n",
      "\u001b[0;31mNameError\u001b[0m: name 'plt' is not defined"
     ]
    }
   ],
   "source": [
    "fig = plt.figure()\n",
    "\n",
    "plt.ylabel('Score')\n",
    "plt.xlabel('Episode #')\n",
    "plt.plot(np.arange(1, len(scores)+1), scores)\n",
    "plt.plot(np.arange(len(scores)), running_mean, label='Moving average', color='red')\n",
    "plt.plot(np.arange(len(scores)), np.ones(len(scores))+30, label='Criterion = 30')\n",
    "plt.legend(bbox_to_anchor=(0.01, 0.99), loc=2, borderaxespad=0.)\n",
    "fig.savefig('result.png')\n",
    "plt.show()"
   ]
  },
  {
   "cell_type": "markdown",
   "metadata": {},
   "source": [
    "### 6. Watch trained Agents playing tennis\n",
    "Important to set \n",
    "```python\n",
    "env_info = env.reset(train_mode=False)[brain_name]\n",
    "```"
   ]
  },
  {
   "cell_type": "code",
   "execution_count": 1,
   "metadata": {},
   "outputs": [
    {
     "name": "stderr",
     "output_type": "stream",
     "text": [
      "INFO:unityagents:\n",
      "'Academy' started successfully!\n",
      "Unity Academy name: Academy\n",
      "        Number of Brains: 1\n",
      "        Number of External Brains : 1\n",
      "        Lesson number : 0\n",
      "        Reset Parameters :\n",
      "\t\t\n",
      "Unity brain name: TennisBrain\n",
      "        Number of Visual Observations (per agent): 0\n",
      "        Vector Observation space type: continuous\n",
      "        Vector Observation space size (per agent): 8\n",
      "        Number of stacked Vector Observation: 3\n",
      "        Vector Action space type: continuous\n",
      "        Vector Action space size (per agent): 2\n",
      "        Vector Action descriptions: , \n"
     ]
    }
   ],
   "source": [
    "from unityagents import UnityEnvironment\n",
    "import numpy as np\n",
    "from collections import deque\n",
    "from maddpg_agent import MADDPG\n",
    "\n",
    "env = UnityEnvironment(file_name=\"env/Tennis.x86_64\")\n",
    "\n",
    "# get the default brain\n",
    "brain_name = env.brain_names[0]\n",
    "brain = env.brains[brain_name]\n",
    "\n",
    "# reset the environment\n",
    "env_info = env.reset(train_mode=False)[brain_name]\n",
    "# number of agents \n",
    "num_agents = len(env_info.agents)\n",
    "# size of each action\n",
    "action_size = brain.vector_action_space_size\n",
    "# examine the state space \n",
    "states = env_info.vector_observations\n",
    "state_size = states.shape[1]\n",
    "\n",
    "m_agents = MADDPG(num_agents=num_agents, state_size=state_size, action_size=action_size, random_seed=10)\n",
    "\n",
    "m_agents.loadCheckPoints()\n",
    "\n",
    "while True:\n",
    "    actions = m_agents.act(states, add_noise=False)\n",
    "    env_info = env.step(actions)[brain_name]\n",
    "    dones = env_info.local_done\n",
    "    next_states = env_info.vector_observations         # get next state (for each agent)\n",
    "    states = next_states\n",
    "    if np.any(dones):                                  # exit loop if episode finished\n",
    "                break\n",
    "\n",
    "env.close()"
   ]
  },
  {
   "cell_type": "code",
   "execution_count": null,
   "metadata": {},
   "outputs": [],
   "source": []
  }
 ],
 "metadata": {
  "kernelspec": {
   "display_name": "drlnd",
   "language": "python",
   "name": "drlnd"
  },
  "language_info": {
   "codemirror_mode": {
    "name": "ipython",
    "version": 3
   },
   "file_extension": ".py",
   "mimetype": "text/x-python",
   "name": "python",
   "nbconvert_exporter": "python",
   "pygments_lexer": "ipython3",
   "version": "3.6.6"
  }
 },
 "nbformat": 4,
 "nbformat_minor": 2
}
